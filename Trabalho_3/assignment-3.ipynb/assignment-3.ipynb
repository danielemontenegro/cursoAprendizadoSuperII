{
 "cells": [
  {
   "cell_type": "markdown",
   "metadata": {
    "id": "q_ykvSnyGRPa"
   },
   "source": [
    "# INF-0616 - Projeto 3: Redes neurais\n",
    "\n",
    "Professora: Esther Colombini -- esther@ic.unicamp.br\n",
    "\n",
    "Monitores: Alana Santana -- a229999@dac.unicamp.br\n",
    "           Hudson Bruno -- hudson.bruno@ic.unicamp.br \n",
    "\n",
    "Este *notebook* faz parte da disciplina INF-0616 no curso de extensão MDC.  \n",
    "Demais artefatos podem ser encontrados no moodle da disciplina: \n",
    "[moodle.lab.ic.unicamp.br](https://moodle.lab.ic.unicamp.br/moodle/course/view.php?id=456)\n",
    "\n",
    "Download do dataset: [download dataset customer-issues](https://ic.unicamp.br/~esther/customer-issues.csv)\n",
    "\n",
    "\n",
    "Instituto de Computação - Unicamp 2020"
   ]
  },
  {
   "cell_type": "code",
   "execution_count": 1,
   "metadata": {
    "id": "Yk7cqjUmGRPi"
   },
   "outputs": [],
   "source": [
    "%matplotlib inline\n",
    "\n",
    "import matplotlib.pyplot as plt\n",
    "import seaborn as sns; sns.set()\n",
    "\n",
    "import numpy as np\n",
    "import pandas as pd\n",
    "\n",
    "from sklearn.model_selection import train_test_split\n",
    "from sklearn.linear_model import LogisticRegression\n",
    "from sklearn.decomposition import TruncatedSVD\n",
    "\n",
    "from sklearn import metrics\n",
    "from sklearn.preprocessing import LabelEncoder\n",
    "\n",
    "from IPython.display import display"
   ]
  },
  {
   "cell_type": "code",
   "execution_count": 2,
   "metadata": {
    "id": "lVXdt13FGRPl"
   },
   "outputs": [],
   "source": [
    "np.random.seed(12049)\n",
    "\n",
    "plt.rcParams['figure.figsize'] = (12, 6)"
   ]
  },
  {
   "cell_type": "markdown",
   "metadata": {
    "id": "9EVPxCW8GRPl"
   },
   "source": [
    "#### Lendo o conjunto de dados\n",
    "\n",
    "O conjunto de dados consiste em reclamações de clientes a cerca de produtos/serviços oferecidos em uma instituição bancária. ***Garanta que o arquivo*** `customer-issues.csv` ***está no mesmo diretório do notebook***."
   ]
  },
  {
   "cell_type": "code",
   "execution_count": 3,
   "metadata": {
    "id": "sjo84xVFGRPm",
    "scrolled": false
   },
   "outputs": [
    {
     "data": {
      "text/html": [
       "<div>\n",
       "<style scoped>\n",
       "    .dataframe tbody tr th:only-of-type {\n",
       "        vertical-align: middle;\n",
       "    }\n",
       "\n",
       "    .dataframe tbody tr th {\n",
       "        vertical-align: top;\n",
       "    }\n",
       "\n",
       "    .dataframe thead th {\n",
       "        text-align: right;\n",
       "    }\n",
       "</style>\n",
       "<table border=\"1\" class=\"dataframe\">\n",
       "  <thead>\n",
       "    <tr style=\"text-align: right;\">\n",
       "      <th></th>\n",
       "      <th>date-received</th>\n",
       "      <th>product</th>\n",
       "      <th>sub-product</th>\n",
       "      <th>issue</th>\n",
       "      <th>sub-issue</th>\n",
       "      <th>consumer-message</th>\n",
       "      <th>state</th>\n",
       "      <th>zip-code</th>\n",
       "      <th>tags</th>\n",
       "      <th>via</th>\n",
       "      <th>resolution</th>\n",
       "      <th>timely-response?</th>\n",
       "      <th>disputed?</th>\n",
       "      <th>complaint-id</th>\n",
       "    </tr>\n",
       "  </thead>\n",
       "  <tbody>\n",
       "    <tr>\n",
       "      <th>0</th>\n",
       "      <td>10/1/2016</td>\n",
       "      <td>Credit reporting</td>\n",
       "      <td>NaN</td>\n",
       "      <td>Incorrect information on credit report</td>\n",
       "      <td>Account status</td>\n",
       "      <td>I have outdated information on my credit repor...</td>\n",
       "      <td>AL</td>\n",
       "      <td>352XX</td>\n",
       "      <td>NaN</td>\n",
       "      <td>Web</td>\n",
       "      <td>Closed with explanation</td>\n",
       "      <td>Yes</td>\n",
       "      <td>No</td>\n",
       "      <td>2141773</td>\n",
       "    </tr>\n",
       "    <tr>\n",
       "      <th>1</th>\n",
       "      <td>10/17/2016</td>\n",
       "      <td>Consumer Loan</td>\n",
       "      <td>Vehicle loan</td>\n",
       "      <td>Managing the loan or lease</td>\n",
       "      <td>NaN</td>\n",
       "      <td>I purchased a new car on XXXX XXXX. The car de...</td>\n",
       "      <td>PA</td>\n",
       "      <td>177XX</td>\n",
       "      <td>Older American</td>\n",
       "      <td>Web</td>\n",
       "      <td>Closed with explanation</td>\n",
       "      <td>Yes</td>\n",
       "      <td>No</td>\n",
       "      <td>2163100</td>\n",
       "    </tr>\n",
       "    <tr>\n",
       "      <th>2</th>\n",
       "      <td>6/15/2015</td>\n",
       "      <td>Credit reporting</td>\n",
       "      <td>NaN</td>\n",
       "      <td>Credit reporting company's investigation</td>\n",
       "      <td>Inadequate help over the phone</td>\n",
       "      <td>An account on my credit report has a mistaken ...</td>\n",
       "      <td>VA</td>\n",
       "      <td>224XX</td>\n",
       "      <td>NaN</td>\n",
       "      <td>Web</td>\n",
       "      <td>Closed with explanation</td>\n",
       "      <td>Yes</td>\n",
       "      <td>No</td>\n",
       "      <td>1420702</td>\n",
       "    </tr>\n",
       "    <tr>\n",
       "      <th>3</th>\n",
       "      <td>2/3/2016</td>\n",
       "      <td>Debt collection</td>\n",
       "      <td>Other (i.e. phone, health club, etc.)</td>\n",
       "      <td>Disclosure verification of debt</td>\n",
       "      <td>Not given enough info to verify debt</td>\n",
       "      <td>This company refuses to provide me verificatio...</td>\n",
       "      <td>TX</td>\n",
       "      <td>752XX</td>\n",
       "      <td>NaN</td>\n",
       "      <td>Web</td>\n",
       "      <td>Closed with explanation</td>\n",
       "      <td>Yes</td>\n",
       "      <td>Yes</td>\n",
       "      <td>1772196</td>\n",
       "    </tr>\n",
       "    <tr>\n",
       "      <th>4</th>\n",
       "      <td>2/17/2016</td>\n",
       "      <td>Debt collection</td>\n",
       "      <td>Credit card</td>\n",
       "      <td>Improper contact or sharing of info</td>\n",
       "      <td>Talked to a third party about my debt</td>\n",
       "      <td>This complaint is in regards to Square Two Fin...</td>\n",
       "      <td>NE</td>\n",
       "      <td>693XX</td>\n",
       "      <td>NaN</td>\n",
       "      <td>Web</td>\n",
       "      <td>Closed with explanation</td>\n",
       "      <td>Yes</td>\n",
       "      <td>Yes</td>\n",
       "      <td>1790634</td>\n",
       "    </tr>\n",
       "  </tbody>\n",
       "</table>\n",
       "</div>"
      ],
      "text/plain": [
       "  date-received           product                            sub-product  \\\n",
       "0     10/1/2016  Credit reporting                                    NaN   \n",
       "1    10/17/2016     Consumer Loan                           Vehicle loan   \n",
       "2     6/15/2015  Credit reporting                                    NaN   \n",
       "3      2/3/2016   Debt collection  Other (i.e. phone, health club, etc.)   \n",
       "4     2/17/2016   Debt collection                            Credit card   \n",
       "\n",
       "                                      issue  \\\n",
       "0    Incorrect information on credit report   \n",
       "1                Managing the loan or lease   \n",
       "2  Credit reporting company's investigation   \n",
       "3           Disclosure verification of debt   \n",
       "4       Improper contact or sharing of info   \n",
       "\n",
       "                               sub-issue  \\\n",
       "0                         Account status   \n",
       "1                                    NaN   \n",
       "2         Inadequate help over the phone   \n",
       "3   Not given enough info to verify debt   \n",
       "4  Talked to a third party about my debt   \n",
       "\n",
       "                                    consumer-message state zip-code  \\\n",
       "0  I have outdated information on my credit repor...    AL    352XX   \n",
       "1  I purchased a new car on XXXX XXXX. The car de...    PA    177XX   \n",
       "2  An account on my credit report has a mistaken ...    VA    224XX   \n",
       "3  This company refuses to provide me verificatio...    TX    752XX   \n",
       "4  This complaint is in regards to Square Two Fin...    NE    693XX   \n",
       "\n",
       "             tags  via               resolution timely-response? disputed?  \\\n",
       "0             NaN  Web  Closed with explanation              Yes        No   \n",
       "1  Older American  Web  Closed with explanation              Yes        No   \n",
       "2             NaN  Web  Closed with explanation              Yes        No   \n",
       "3             NaN  Web  Closed with explanation              Yes       Yes   \n",
       "4             NaN  Web  Closed with explanation              Yes       Yes   \n",
       "\n",
       "   complaint-id  \n",
       "0       2141773  \n",
       "1       2163100  \n",
       "2       1420702  \n",
       "3       1772196  \n",
       "4       1790634  "
      ]
     },
     "metadata": {},
     "output_type": "display_data"
    }
   ],
   "source": [
    "d = pd.read_csv('/home/dani/Documentos/curso unicamp/Aprendizado de Máquina Supervisionado II/Trabalho/Trabalho_3/customer-issues.csv')\n",
    "display(d.head())"
   ]
  },
  {
   "cell_type": "markdown",
   "metadata": {
    "id": "5teOILLdGRPn"
   },
   "source": [
    "##### Exibindo as quatro primeiras mensagens"
   ]
  },
  {
   "cell_type": "code",
   "execution_count": 4,
   "metadata": {
    "id": "OYGyY6kbGRPn",
    "scrolled": true
   },
   "outputs": [
    {
     "name": "stdout",
     "output_type": "stream",
     "text": [
      "I have outdated information on my credit report that I have previously disputed that has yet to be removed this information is more then seven years old and does not meet credit reporting requirements\n",
      "\n",
      "I purchased a new car on XXXX XXXX. The car dealer called Citizens Bank to get a 10 day payoff on my loan, good till XXXX XXXX. The dealer sent the check the next day. When I balanced my checkbook on XXXX XXXX. I noticed that Citizens bank had taken the automatic payment out of my checking account at XXXX XXXX XXXX Bank. I called Citizens and they stated that they did not close the loan until XXXX XXXX. ( stating that they did not receive the check until XXXX. XXXX. ). I told them that I did not believe that the check took that long to arrive. XXXX told me a check was issued to me for the amount overpaid, they deducted additional interest. Today ( XXXX XXXX, ) I called Citizens Bank again and talked to a supervisor named XXXX, because on XXXX XXXX. I received a letter that the loan had been paid in full ( dated XXXX, XXXX ) but no refund check was included. XXXX stated that they hold any over payment for 10 business days after the loan was satisfied and that my check would be mailed out on Wed. the XX/XX/XXXX.. I questioned her about the delay in posting the dealer payment and she first stated that sometimes it takes 3 or 4 business days to post, then she said they did not receive the check till XXXX XXXX I again told her that I did not believe this and asked where is my money. She then stated that they hold the over payment for 10 business days. I asked her why, and she simply said that is their policy. I asked her if I would receive interest on my money and she stated no. I believe that Citizens bank is deliberately delaying the posting of payment and the return of consumer 's money to make additional interest for the bank. If this is not illegal it should be, it does hurt the consumer and is not ethical. My amount of money lost is minimal but if they are doing this on thousands of car loans a month, then the additional interest earned for them could be staggering. I still have another car loan from Citizens Bank and I am afraid when I trade that car in another year I will run into the same problem again.\n",
      "\n",
      "An account on my credit report has a mistaken date. I mailed in a debt validation letter to allow XXXX to correct the information. I received a letter in the mail, stating that Experian received my correspondence and found it to be \" suspicious '' and that \" I did n't write it ''. Experian 's letter is worded to imply that I am incapable of writing my own letter. I was deeply offended by this implication. \n",
      "I called Experian to figure out why my letter was so suspicious. I spoke to a representative who was incredibly unhelpful, She did not effectively answer any questions I asked of her, and she kept ignoring what I was saying regarding the offensive letter and my dispute process. I feel the representative did what she wanted to do, and I am not satisfied. It is STILL not clear to me why I received this letter. I typed this letter, I signed this letter, and I paid to mail this letter, yet Experian willfully disregarded my lawful request. \n",
      "I am disgusted with this entire situation, and I would like for my dispute to be handled appropriately, and I would like for an Experian representative to contact me and give me a real explanation for this letter.\n",
      "\n",
      "This company refuses to provide me verification and validation of debt per my right under the FDCPA. I do not believe this debt is mine.\n",
      "\n",
      "This complaint is in regards to Square Two Financial. Refer to CFPB case number XXXX regarding CACH, L. L. C. Square Two Financial has utilized my entire social security number to include date of birth on the pfd document listed with this complaint. The initial complaint was with CACH, L. L. C. and not Square Two Financial. This is in breach of the following : 1. Identity Theft Assumption and Deterrence Act of XXXX 2. Privacy Act of XXXX XXXX. Social Security XXXX 4. XXXX Privacy Act-which carries a maximum XXXX fine for each calendar cap year. \n",
      "5. Breach of Title XXXX, XXXX XXXX XXXX XXXX under XXXX and XXXX The solution is to have CACH, L.L.C handle this correction and not Square Two Financial. Two Square Financial submitted the XXXX XXXX XXXX with their subscriber name on the form listed on CFPB case # XXXX they are rendered liable in this matter. In addition, there is an account number associated with this Universal Data Form and they could use that account number instead of a SSN and DOB which is against XXXX XXXX XXXX This is also includes removal of the XXXX XXXX Form off of CFPB case # XXXX listed as a pdf document attached to this case number. Square Two Financial was contacted at XXXXXXXXXXXX as of XXXX/XXXX/XXXX by e-mail in regards to this matter. In addition, all of my information is not for sale and distribution via fax, fax-scanned, copied, stored in a retrieval system, recorded, transmitted digitally or electronically without my expressed written consent. This information is protected under copyright and publishing laws of XXXX XXXX and XXXX XXXX. This information is protected under the XXXX XXXX XXXX XXXX XXXX under the freedom of speech under XXXX XXXX XXXX to include the Uniform Commercial Codes XXXX and XXXX. These rights are reserved world wide.\n"
     ]
    }
   ],
   "source": [
    "print(*d.loc[:4, 'consumer-message'], sep='\\n\\n')"
   ]
  },
  {
   "cell_type": "markdown",
   "metadata": {
    "id": "0jQ18nDVGRPo"
   },
   "source": [
    "##### Extraíndo um conjunto de testes válido\n",
    "\n",
    "As mensagens contidas neste conjunto possuem uma relação temporal.\n",
    "É importante realizar a separação dos sub-conjuntos de treino/teste respeitando esta relação, de forma a garantir que o modelo não seja treinado sobre amostras no futuro e experimentado sobre o passado."
   ]
  },
  {
   "cell_type": "code",
   "execution_count": 5,
   "metadata": {
    "id": "jRvr2D-NGRPp"
   },
   "outputs": [],
   "source": [
    "d.sort_values(by='date-received', inplace=True)"
   ]
  },
  {
   "cell_type": "markdown",
   "metadata": {
    "id": "1WAZu9qiGRPp"
   },
   "source": [
    "### Modelando a classificação de tópicos baseado nas mensagens de clientes\n",
    "\n",
    "Observando no gráfico de frequências de produto sobre as conversas que este é um problema extremamente desbalanceado. Há, entretanto, amostras suficientes para a modelagem de um estimador de tópico (de produto) levando em consideração o diálogo do cliente."
   ]
  },
  {
   "cell_type": "code",
   "execution_count": 6,
   "metadata": {
    "id": "ApoqktPMGRPq"
   },
   "outputs": [],
   "source": [
    "def frequencies(dataset, column):\n",
    "    labels, counts = np.unique(dataset[column], return_counts=True)\n",
    "    p = np.argsort(counts)[::-1]\n",
    "    labels, counts = labels[p], counts[p]\n",
    "    \n",
    "    (sns\n",
    "     .barplot([l[:40] for l in labels], counts)\n",
    "     .set_title(f'Occurrences for The {len(labels)} Classes in {column}'))\n",
    "    plt.xticks(rotation=90)\n",
    "    \n",
    "    return labels, counts"
   ]
  },
  {
   "cell_type": "code",
   "execution_count": 7,
   "metadata": {
    "id": "hREZca6oGRPq",
    "scrolled": false
   },
   "outputs": [
    {
     "name": "stderr",
     "output_type": "stream",
     "text": [
      "/home/dani/anaconda3/envs/env_deep/lib/python3.7/site-packages/seaborn/_decorators.py:43: FutureWarning: Pass the following variables as keyword args: x, y. From version 0.12, the only valid positional argument will be `data`, and passing other arguments without an explicit keyword will result in an error or misinterpretation.\n",
      "  FutureWarning\n"
     ]
    },
    {
     "data": {
      "image/png": "[encoded data removed]",
      "text/plain": [
       "<Figure size 864x432 with 1 Axes>"
      ]
     },
     "metadata": {},
     "output_type": "display_data"
    }
   ],
   "source": [
    "labels, counamts = frequencies(d, 'product')"
   ]
  },
  {
   "cell_type": "markdown",
   "metadata": {
    "id": "p6yxLTmnGRPr"
   },
   "source": [
    "Simplificamos o problema, considerando somente as 6 classes mais frequentes:"
   ]
  },
  {
   "cell_type": "code",
   "execution_count": 8,
   "metadata": {
    "id": "0ZVp2b4XGRPs"
   },
   "outputs": [],
   "source": [
    "s = d['product'].isin(labels[:6])\n",
    "d = d[s]\n",
    "\n",
    "test_share = .3\n",
    "\n",
    "d_train, d_test = train_test_split(d, test_size=test_share, shuffle=False)\n",
    "assert d_train['date-received'].max() <= d_test['date-received'].min()\n",
    "\n",
    "x_train, x_test = d_train['consumer-message'], d_test['consumer-message']\n",
    "y_train, y_test = d_train['product'], d_test['product']"
   ]
  },
  {
   "cell_type": "markdown",
   "metadata": {
    "id": "bGjYd_4YGRPs"
   },
   "source": [
    "Vamos codificar as palavras na conversa utilizando o TF-IDF, gerando um vetor de características baseadas nas frequências de ocorrência das palavras no documento e em todo o conjunto de dados."
   ]
  },
  {
   "cell_type": "code",
   "execution_count": 9,
   "metadata": {
    "id": "z_jejCsmGRPs",
    "scrolled": false
   },
   "outputs": [],
   "source": [
    "from sklearn.pipeline import make_pipeline\n",
    "from sklearn.feature_extraction.text import TfidfVectorizer\n",
    "from sklearn.preprocessing import StandardScaler\n",
    "\n",
    "features = 1024\n",
    "\n",
    "encoder = make_pipeline(TfidfVectorizer(min_df=5,\n",
    "                                        stop_words='english',\n",
    "                                        strip_accents='unicode',\n",
    "                                        max_features=features),\n",
    "                        StandardScaler(with_mean=False))\n",
    "\n",
    "x_train = encoder.fit_transform(x_train)\n",
    "x_test = encoder.transform(x_test)\n",
    "\n",
    "label_enc = LabelEncoder()\n",
    "ye_train = label_enc.fit_transform(y_train)\n",
    "ye_test = label_enc.transform(y_test)"
   ]
  },
  {
   "cell_type": "markdown",
   "metadata": {
    "id": "GoMUEgptGRPt"
   },
   "source": [
    "## Treinando um regressor logístico para classificar produto\n",
    "**Atividade (1 pt):** treine um regressor logístico, buscando os hiper-parâmetros com *grid-search*."
   ]
  },
  {
   "cell_type": "code",
   "execution_count": null,
   "metadata": {
    "id": "h7LJTTdlGRPt"
   },
   "outputs": [],
   "source": []
  },
  {
   "cell_type": "markdown",
   "metadata": {
    "id": "U98JxLOxGRPu"
   },
   "source": [
    "Iremos calcular a matriz de confusão relativa $R$, que guarda porcentagens de incidências em vez das contagens absolutas, e plotar o heatmap dessa matriz. Além disso, iremos calcular a distribuição de confiança nas predições por classe (mais próximos de `1.0` --> mais confiante):"
   ]
  },
  {
   "cell_type": "code",
   "execution_count": 10,
   "metadata": {
    "id": "EbIE7_t9GRPu"
   },
   "outputs": [],
   "source": [
    "def evaluate(y, p, probabilities, labels=None):\n",
    "    # Cálculo das métricas de acerto.\n",
    "    print('Accuracy:', metrics.accuracy_score(y, p).round(3))\n",
    "    print('Accuracy (balanced):', metrics.balanced_accuracy_score(y, p).round(3))\n",
    "    \n",
    "    # Calculo da matriz de confusão.\n",
    "    c = metrics.confusion_matrix(y, p)\n",
    "    r = c / c.sum(axis=1, keepdims=True)\n",
    "    \n",
    "    # Impressão dos gráficos.\n",
    "    (plt\n",
    "     .figure(figsize=(16, 12))\n",
    "     .suptitle('Matriz de confusão', fontsize=20))\n",
    "    sns.heatmap(r,\n",
    "                cmap=\"YlGnBu\", linewidths=.5, annot=True, fmt=\".1%\",\n",
    "                xticklabels=labels, yticklabels=labels, cbar=False)\n",
    "\n",
    "    (plt\n",
    "     .figure(figsize=(16, 12))\n",
    "     .suptitle('Distribuição de confiança para cada classe', fontsize=20))\n",
    "    \n",
    "    for i in np.unique(y):\n",
    "        # Para cada classe `i`, seleciona suas amostras e filtra a confiança\n",
    "        # do modelo em predizer estas amostras como sendo da classe `i`.\n",
    "        sns.distplot(probabilities[y.ravel() == i][:, i],\n",
    "                     hist=False,\n",
    "                     label=labels[i])"
   ]
  },
  {
   "cell_type": "markdown",
   "metadata": {
    "id": "u_yevFPYGRPv"
   },
   "source": [
    "Vamos utilizar a função `evaluate` para avaliar o modelo treinado anteriormente:"
   ]
  },
  {
   "cell_type": "code",
   "execution_count": 11,
   "metadata": {
    "id": "D3MWnv5qGRPv",
    "scrolled": false
   },
   "outputs": [],
   "source": [
    "#evaluate(ye_test, g.predict(x_test), g.predict_proba(x_test), labels=label_enc.classes_)"
   ]
  },
  {
   "cell_type": "markdown",
   "metadata": {
    "id": "YKIyrEHSGRPw"
   },
   "source": [
    "**Pergunta (1pt):** considerando o gráfico de distribuição de confiança para o seu modelo treinado, as amostras são classificadas com alta confiança? Há uma grande diferença de confiança entre as diferentes classes?"
   ]
  },
  {
   "cell_type": "code",
   "execution_count": null,
   "metadata": {
    "id": "4VEZlXs_GRPw"
   },
   "outputs": [],
   "source": []
  },
  {
   "cell_type": "markdown",
   "metadata": {
    "id": "qpxTOqp9GRPw"
   },
   "source": [
    "----------\n",
    "----------\n",
    "\n",
    "## Redes Neurais\n",
    "Iremos treinar alguns modelos de redes neurais, variando número de camadas e quantidade de neurônios em cada camada."
   ]
  },
  {
   "cell_type": "code",
   "execution_count": 12,
   "metadata": {
    "id": "sv08gfDXGRPx"
   },
   "outputs": [],
   "source": [
    "epochs = 10\n",
    "BATCH_SIZE = 128\n",
    "input_shape = [features]"
   ]
  },
  {
   "cell_type": "markdown",
   "metadata": {},
   "source": [
    "**As 6 primeiras labels**\n",
    "1. Debt collection\n",
    "2. Mortgage\n",
    "3. Credit reporting\n",
    "4. Credit card\n",
    "5. Bank account or service\n",
    "6. Credit reporting"
   ]
  },
  {
   "cell_type": "code",
   "execution_count": 13,
   "metadata": {},
   "outputs": [
    {
     "data": {
      "text/plain": [
       "[1024]"
      ]
     },
     "execution_count": 13,
     "metadata": {},
     "output_type": "execute_result"
    }
   ],
   "source": [
    "input_shape"
   ]
  },
  {
   "cell_type": "markdown",
   "metadata": {
    "id": "2OQbno_UGRPx"
   },
   "source": [
    "Vamos converter os rótulos em vetores *One Hot Encoded*:"
   ]
  },
  {
   "cell_type": "code",
   "execution_count": 14,
   "metadata": {
    "id": "W5gxzsF9GRPx"
   },
   "outputs": [
    {
     "name": "stderr",
     "output_type": "stream",
     "text": [
      "Using TensorFlow backend.\n",
      "/home/dani/anaconda3/envs/env_deep/lib/python3.7/site-packages/tensorflow/python/framework/dtypes.py:516: FutureWarning: Passing (type, 1) or '1type' as a synonym of type is deprecated; in a future version of numpy, it will be understood as (type, (1,)) / '(1,)type'.\n",
      "  _np_qint8 = np.dtype([(\"qint8\", np.int8, 1)])\n",
      "/home/dani/anaconda3/envs/env_deep/lib/python3.7/site-packages/tensorflow/python/framework/dtypes.py:517: FutureWarning: Passing (type, 1) or '1type' as a synonym of type is deprecated; in a future version of numpy, it will be understood as (type, (1,)) / '(1,)type'.\n",
      "  _np_quint8 = np.dtype([(\"quint8\", np.uint8, 1)])\n",
      "/home/dani/anaconda3/envs/env_deep/lib/python3.7/site-packages/tensorflow/python/framework/dtypes.py:518: FutureWarning: Passing (type, 1) or '1type' as a synonym of type is deprecated; in a future version of numpy, it will be understood as (type, (1,)) / '(1,)type'.\n",
      "  _np_qint16 = np.dtype([(\"qint16\", np.int16, 1)])\n",
      "/home/dani/anaconda3/envs/env_deep/lib/python3.7/site-packages/tensorflow/python/framework/dtypes.py:519: FutureWarning: Passing (type, 1) or '1type' as a synonym of type is deprecated; in a future version of numpy, it will be understood as (type, (1,)) / '(1,)type'.\n",
      "  _np_quint16 = np.dtype([(\"quint16\", np.uint16, 1)])\n",
      "/home/dani/anaconda3/envs/env_deep/lib/python3.7/site-packages/tensorflow/python/framework/dtypes.py:520: FutureWarning: Passing (type, 1) or '1type' as a synonym of type is deprecated; in a future version of numpy, it will be understood as (type, (1,)) / '(1,)type'.\n",
      "  _np_qint32 = np.dtype([(\"qint32\", np.int32, 1)])\n",
      "/home/dani/anaconda3/envs/env_deep/lib/python3.7/site-packages/tensorflow/python/framework/dtypes.py:525: FutureWarning: Passing (type, 1) or '1type' as a synonym of type is deprecated; in a future version of numpy, it will be understood as (type, (1,)) / '(1,)type'.\n",
      "  np_resource = np.dtype([(\"resource\", np.ubyte, 1)])\n",
      "/home/dani/anaconda3/envs/env_deep/lib/python3.7/site-packages/tensorboard/compat/tensorflow_stub/dtypes.py:541: FutureWarning: Passing (type, 1) or '1type' as a synonym of type is deprecated; in a future version of numpy, it will be understood as (type, (1,)) / '(1,)type'.\n",
      "  _np_qint8 = np.dtype([(\"qint8\", np.int8, 1)])\n",
      "/home/dani/anaconda3/envs/env_deep/lib/python3.7/site-packages/tensorboard/compat/tensorflow_stub/dtypes.py:542: FutureWarning: Passing (type, 1) or '1type' as a synonym of type is deprecated; in a future version of numpy, it will be understood as (type, (1,)) / '(1,)type'.\n",
      "  _np_quint8 = np.dtype([(\"quint8\", np.uint8, 1)])\n",
      "/home/dani/anaconda3/envs/env_deep/lib/python3.7/site-packages/tensorboard/compat/tensorflow_stub/dtypes.py:543: FutureWarning: Passing (type, 1) or '1type' as a synonym of type is deprecated; in a future version of numpy, it will be understood as (type, (1,)) / '(1,)type'.\n",
      "  _np_qint16 = np.dtype([(\"qint16\", np.int16, 1)])\n",
      "/home/dani/anaconda3/envs/env_deep/lib/python3.7/site-packages/tensorboard/compat/tensorflow_stub/dtypes.py:544: FutureWarning: Passing (type, 1) or '1type' as a synonym of type is deprecated; in a future version of numpy, it will be understood as (type, (1,)) / '(1,)type'.\n",
      "  _np_quint16 = np.dtype([(\"quint16\", np.uint16, 1)])\n",
      "/home/dani/anaconda3/envs/env_deep/lib/python3.7/site-packages/tensorboard/compat/tensorflow_stub/dtypes.py:545: FutureWarning: Passing (type, 1) or '1type' as a synonym of type is deprecated; in a future version of numpy, it will be understood as (type, (1,)) / '(1,)type'.\n",
      "  _np_qint32 = np.dtype([(\"qint32\", np.int32, 1)])\n",
      "/home/dani/anaconda3/envs/env_deep/lib/python3.7/site-packages/tensorboard/compat/tensorflow_stub/dtypes.py:550: FutureWarning: Passing (type, 1) or '1type' as a synonym of type is deprecated; in a future version of numpy, it will be understood as (type, (1,)) / '(1,)type'.\n",
      "  np_resource = np.dtype([(\"resource\", np.ubyte, 1)])\n"
     ]
    }
   ],
   "source": [
    "from keras.utils import np_utils\n",
    "y_ohe_train = np_utils.to_categorical(ye_train, num_classes=6)\n",
    "y_ohe_test = np_utils.to_categorical(ye_test, num_classes=6)"
   ]
  },
  {
   "cell_type": "code",
   "execution_count": 15,
   "metadata": {},
   "outputs": [
    {
     "data": {
      "text/plain": [
       "(115143, 6)"
      ]
     },
     "execution_count": 15,
     "metadata": {},
     "output_type": "execute_result"
    }
   ],
   "source": [
    "y_ohe_train.shape"
   ]
  },
  {
   "cell_type": "markdown",
   "metadata": {
    "id": "wga62pjzGRPx"
   },
   "source": [
    "**Atividade (1 pt):** defina uma arquitetura de uma rede neural capaz de classificar os diferentes produtos a partir da conversa dos clientes. Compile a sua rede com a loss `categorical_crossentropy`, optimizador `SGD` e defina as métricas relevantes para o problema. "
   ]
  },
  {
   "cell_type": "markdown",
   "metadata": {
    "id": "XZsYz7qaGRPx"
   },
   "source": [
    "**Construindo a arquitetura com o Keras** "
   ]
  },
  {
   "cell_type": "code",
   "execution_count": 16,
   "metadata": {},
   "outputs": [],
   "source": [
    "from keras.models import Sequential\n",
    "from keras import Model\n",
    "from keras.layers import Dense, Activation, Input\n",
    "from tensorflow import keras\n",
    "from keras.optimizers import SGD\n",
    "from scikitplot.metrics import plot_confusion_matrix, plot_roc"
   ]
  },
  {
   "cell_type": "code",
   "execution_count": 17,
   "metadata": {},
   "outputs": [],
   "source": [
    "num_classes=6"
   ]
  },
  {
   "cell_type": "markdown",
   "metadata": {},
   "source": [
    "**Instanciado o otimizador, com uma taxa inicial de learning rate**"
   ]
  },
  {
   "cell_type": "code",
   "execution_count": 18,
   "metadata": {},
   "outputs": [],
   "source": [
    "def get_optimizer_sgd():\n",
    "  return SGD(lr=0.01, decay=1e-6, momentum=0.9, nesterov=True)"
   ]
  },
  {
   "cell_type": "markdown",
   "metadata": {},
   "source": [
    "**Criando o modelo modelo com a API funcional do keras**"
   ]
  },
  {
   "cell_type": "code",
   "execution_count": 19,
   "metadata": {},
   "outputs": [],
   "source": [
    "ipt = Input(shape = (1024,))\n",
    "x = Dense(512, activation='relu')(ipt)\n",
    "y = Dense(512, activation='relu')(x)\n",
    "out = Dense(num_classes, activation='softmax')(y)\n",
    "model = Model(inputs=ipt, outputs=out)"
   ]
  },
  {
   "cell_type": "code",
   "execution_count": 20,
   "metadata": {},
   "outputs": [
    {
     "name": "stdout",
     "output_type": "stream",
     "text": [
      "Model: \"model_1\"\n",
      "_________________________________________________________________\n",
      "Layer (type)                 Output Shape              Param #   \n",
      "=================================================================\n",
      "input_1 (InputLayer)         (None, 1024)              0         \n",
      "_________________________________________________________________\n",
      "dense_1 (Dense)              (None, 512)               524800    \n",
      "_________________________________________________________________\n",
      "dense_2 (Dense)              (None, 512)               262656    \n",
      "_________________________________________________________________\n",
      "dense_3 (Dense)              (None, 6)                 3078      \n",
      "=================================================================\n",
      "Total params: 790,534\n",
      "Trainable params: 790,534\n",
      "Non-trainable params: 0\n",
      "_________________________________________________________________\n"
     ]
    }
   ],
   "source": [
    "model.summary()"
   ]
  },
  {
   "cell_type": "markdown",
   "metadata": {},
   "source": [
    "**Copilando o modelo**"
   ]
  },
  {
   "cell_type": "code",
   "execution_count": 21,
   "metadata": {},
   "outputs": [],
   "source": [
    "model.compile(loss='categorical_crossentropy', optimizer=get_optimizer_sgd(), metrics=['accuracy'])"
   ]
  },
  {
   "cell_type": "markdown",
   "metadata": {
    "id": "unsbcZJQGRPy"
   },
   "source": [
    "### Treinando a rede neural\n",
    "\n",
    "**Atividade (1 pt):** treine o modelo definido acima sobre o conjunto, respeitando as seguintes regras:\n",
    "\n",
    "1. Separe um subconjunto do treino para validação.\n",
    "2. Utilize alguma técnica para conservar os parâmetros que melhor generalizam o problema, como `ModelCheckpoint` (salve o modelo com nome de `weights.h5`)."
   ]
  },
  {
   "cell_type": "markdown",
   "metadata": {
    "id": "Wcx9OV6UGRPy",
    "scrolled": true
   },
   "source": [
    "**1.Separando um subconjunto do treino para validação**"
   ]
  },
  {
   "cell_type": "code",
   "execution_count": 22,
   "metadata": {},
   "outputs": [],
   "source": [
    "x_train, x_val, y_ohe_train, ye_val= train_test_split(x_train, y_ohe_train, test_size=0.25, random_state=1) # 0.25 x 0.8 = 0.2"
   ]
  },
  {
   "cell_type": "code",
   "execution_count": 23,
   "metadata": {},
   "outputs": [
    {
     "data": {
      "text/plain": [
       "(86357, 6)"
      ]
     },
     "execution_count": 23,
     "metadata": {},
     "output_type": "execute_result"
    }
   ],
   "source": [
    "y_ohe_train.shape"
   ]
  },
  {
   "cell_type": "code",
   "execution_count": 24,
   "metadata": {},
   "outputs": [
    {
     "data": {
      "text/plain": [
       "(28786, 6)"
      ]
     },
     "execution_count": 24,
     "metadata": {},
     "output_type": "execute_result"
    }
   ],
   "source": [
    "ye_val.shape"
   ]
  },
  {
   "cell_type": "markdown",
   "metadata": {},
   "source": [
    "**2.Criando o Model Checkpoint**"
   ]
  },
  {
   "cell_type": "code",
   "execution_count": 25,
   "metadata": {},
   "outputs": [],
   "source": [
    "from keras.callbacks import ModelCheckpoint"
   ]
  },
  {
   "cell_type": "code",
   "execution_count": 26,
   "metadata": {},
   "outputs": [],
   "source": [
    "model_checkpoint_callback = ModelCheckpoint(\n",
    "    filepath=\"weights.h5\",\n",
    "    save_weights_only=True,\n",
    "    monitor='val_accuracy',\n",
    "    mode='max',\n",
    "    save_best_only=True)"
   ]
  },
  {
   "cell_type": "markdown",
   "metadata": {},
   "source": [
    "**Iniciando o processo de treinamento**"
   ]
  },
  {
   "cell_type": "code",
   "execution_count": 27,
   "metadata": {},
   "outputs": [
    {
     "name": "stdout",
     "output_type": "stream",
     "text": [
      "WARNING:tensorflow:From /home/dani/anaconda3/envs/env_deep/lib/python3.7/site-packages/keras/backend/tensorflow_backend.py:422: The name tf.global_variables is deprecated. Please use tf.compat.v1.global_variables instead.\n",
      "\n",
      "Train on 86357 samples, validate on 28786 samples\n",
      "Epoch 1/10\n",
      "86357/86357 [==============================] - 6s 69us/step - loss: 0.6120 - accuracy: 0.7908 - val_loss: 0.5263 - val_accuracy: 0.8222\n",
      "Epoch 2/10\n",
      "86357/86357 [==============================] - 6s 69us/step - loss: 0.4055 - accuracy: 0.8644 - val_loss: 0.5052 - val_accuracy: 0.8322\n",
      "Epoch 3/10\n",
      "86357/86357 [==============================] - 6s 71us/step - loss: 0.2969 - accuracy: 0.9029 - val_loss: 0.5100 - val_accuracy: 0.8392\n",
      "Epoch 4/10\n",
      "86357/86357 [==============================] - 7s 83us/step - loss: 0.1956 - accuracy: 0.9396 - val_loss: 0.5409 - val_accuracy: 0.8394\n",
      "Epoch 5/10\n",
      "86357/86357 [==============================] - 7s 79us/step - loss: 0.1156 - accuracy: 0.9683 - val_loss: 0.5895 - val_accuracy: 0.8413\n",
      "Epoch 6/10\n",
      "86357/86357 [==============================] - 6s 73us/step - loss: 0.0648 - accuracy: 0.9852 - val_loss: 0.6413 - val_accuracy: 0.8432\n",
      "Epoch 7/10\n",
      "86357/86357 [==============================] - 6s 73us/step - loss: 0.0413 - accuracy: 0.9923 - val_loss: 0.6849 - val_accuracy: 0.8454\n",
      "Epoch 8/10\n",
      "86357/86357 [==============================] - 6s 74us/step - loss: 0.0296 - accuracy: 0.9948 - val_loss: 0.7232 - val_accuracy: 0.8486\n",
      "Epoch 9/10\n",
      "86357/86357 [==============================] - 6s 74us/step - loss: 0.0242 - accuracy: 0.9958 - val_loss: 0.7543 - val_accuracy: 0.8468\n",
      "Epoch 10/10\n",
      "86357/86357 [==============================] - 6s 75us/step - loss: 0.0204 - accuracy: 0.9964 - val_loss: 0.7748 - val_accuracy: 0.8452\n"
     ]
    }
   ],
   "source": [
    "history = model.fit(\n",
    "      x_train, \n",
    "      y_ohe_train,\n",
    "      batch_size=BATCH_SIZE,\n",
    "      epochs=epochs,\n",
    "      verbose=1,\n",
    "      callbacks=[model_checkpoint_callback],\n",
    "      validation_data=(x_val, ye_val),\n",
    "    )"
   ]
  },
  {
   "cell_type": "code",
   "execution_count": 28,
   "metadata": {},
   "outputs": [],
   "source": [
    "model.save('my_model_save.h5')"
   ]
  },
  {
   "cell_type": "code",
   "execution_count": 29,
   "metadata": {
    "id": "WFCi45M6GRPy"
   },
   "outputs": [],
   "source": [
    "#model.load_weights('/home/dani/Documentos/curso unicamp/Aprendizado de Máquina Supervisionado II/Trabalho/Trabalho_3/assignment-3.ipynb/weights.h5')"
   ]
  },
  {
   "cell_type": "markdown",
   "metadata": {
    "id": "gdnewm18GRPy"
   },
   "source": [
    "O método `model.fit` retorna `model.history`, e contem algumas informações interessantes a respeito do histórico de treinamento.\n",
    "\n",
    "**Atividade (1 pt):** plote um gráfico de linhas exibindo a evolução dos valores da função *loss* sobre o conjunto de treino e validação. A partir de qual `epoch` a rede começou a super-especializar?"
   ]
  },
  {
   "cell_type": "code",
   "execution_count": 30,
   "metadata": {},
   "outputs": [
    {
     "data": {
      "image/png": "[encoded data removed]",
      "text/plain": [
       "<Figure size 864x432 with 1 Axes>"
      ]
     },
     "metadata": {},
     "output_type": "display_data"
    }
   ],
   "source": [
    "plt.plot(history.history['loss'])\n",
    "plt.plot(history.history['val_loss'])\n",
    "plt.title('Model loss')\n",
    "plt.ylabel('Loss')\n",
    "plt.xlabel('Epoch')\n",
    "plt.legend(['Loss Train', 'Loss Val'], loc='upper left')\n",
    "plt.show()"
   ]
  },
  {
   "cell_type": "markdown",
   "metadata": {
    "id": "HUOKP3xCGRPy"
   },
   "source": [
    "### Avaliando o modelo treinado\n",
    "\n",
    "**Atividade (1 pt):** teste o modelo treinado utilizando o subconjunto de teste. Reporte a acurácia para cada classe e a matriz de confusão percentual (usando a função `evaluate` definida anteriormente)."
   ]
  },
  {
   "cell_type": "code",
   "execution_count": 31,
   "metadata": {
    "id": "iZeUlmK0GRPz",
    "scrolled": false
   },
   "outputs": [
    {
     "name": "stdout",
     "output_type": "stream",
     "text": [
      "49347/49347 [==============================] - 2s 45us/step\n"
     ]
    }
   ],
   "source": [
    "(loss, accuracy) = model.evaluate(x_test, y_ohe_test, verbose=1)"
   ]
  },
  {
   "cell_type": "code",
   "execution_count": 32,
   "metadata": {},
   "outputs": [],
   "source": [
    "model_predict = model.predict(x_test)"
   ]
  },
  {
   "cell_type": "code",
   "execution_count": 33,
   "metadata": {},
   "outputs": [],
   "source": [
    "#model_proba = model.metrics"
   ]
  },
  {
   "cell_type": "code",
   "execution_count": 34,
   "metadata": {},
   "outputs": [],
   "source": [
    "#evaluate(y_ohe_test, model_predict, model_proba, labels=label_enc.classes_)"
   ]
  },
  {
   "cell_type": "markdown",
   "metadata": {
    "id": "SyvNwrknGRPz"
   },
   "source": [
    "--------\n",
    "\n",
    "Repita agora a definição, treinamento e avaliação de uma rede neural mais complexa, aumentando o número de camadas ou a quantidade de neurônios nas camadas da rede anterior:\n",
    "\n",
    "**Atividade (1 pt):** defina uma rede neural mais complexa e a compile com as mesmas configurações da rede anterior."
   ]
  },
  {
   "cell_type": "markdown",
   "metadata": {},
   "source": [
    "**Criando o modelo 2 como um modelo sequencial**"
   ]
  },
  {
   "cell_type": "code",
   "execution_count": 35,
   "metadata": {},
   "outputs": [],
   "source": [
    "from keras.layers import Dropout"
   ]
  },
  {
   "cell_type": "code",
   "execution_count": 36,
   "metadata": {
    "id": "ByMzTXCSGRPz"
   },
   "outputs": [],
   "source": [
    "model2 = Sequential()\n",
    "model2.add(Dense(1024, activation='relu', input_shape=(1024,)))\n",
    "model2.add(Dense(512, activation='relu'))\n",
    "model2.add(Dense(512, activation='relu'))\n",
    "model2.add(Dense(512, activation='relu'))\n",
    "model2.add(Dense(280, activation='relu'))\n",
    "model2.add(Dense(num_classes, activation='softmax'))"
   ]
  },
  {
   "cell_type": "markdown",
   "metadata": {},
   "source": [
    "**Copilando o modelo 2**"
   ]
  },
  {
   "cell_type": "code",
   "execution_count": 37,
   "metadata": {},
   "outputs": [],
   "source": [
    "model2.compile(loss='categorical_crossentropy', optimizer=get_optimizer_sgd(), metrics=['accuracy'])"
   ]
  },
  {
   "cell_type": "code",
   "execution_count": 38,
   "metadata": {},
   "outputs": [
    {
     "name": "stdout",
     "output_type": "stream",
     "text": [
      "Model: \"sequential_1\"\n",
      "_________________________________________________________________\n",
      "Layer (type)                 Output Shape              Param #   \n",
      "=================================================================\n",
      "dense_4 (Dense)              (None, 1024)              1049600   \n",
      "_________________________________________________________________\n",
      "dense_5 (Dense)              (None, 512)               524800    \n",
      "_________________________________________________________________\n",
      "dense_6 (Dense)              (None, 512)               262656    \n",
      "_________________________________________________________________\n",
      "dense_7 (Dense)              (None, 512)               262656    \n",
      "_________________________________________________________________\n",
      "dense_8 (Dense)              (None, 280)               143640    \n",
      "_________________________________________________________________\n",
      "dense_9 (Dense)              (None, 6)                 1686      \n",
      "=================================================================\n",
      "Total params: 2,245,038\n",
      "Trainable params: 2,245,038\n",
      "Non-trainable params: 0\n",
      "_________________________________________________________________\n"
     ]
    }
   ],
   "source": [
    "model2.summary()"
   ]
  },
  {
   "cell_type": "markdown",
   "metadata": {
    "id": "UtzawTBlGRPz"
   },
   "source": [
    "**Atividade (1 pt):** treine a nova rede."
   ]
  },
  {
   "cell_type": "code",
   "execution_count": 39,
   "metadata": {},
   "outputs": [],
   "source": [
    "model2_checkpoint_callback = ModelCheckpoint(\n",
    "    filepath=\"weights2.h5\",\n",
    "    save_weights_only=True,\n",
    "    monitor='val_accuracy',\n",
    "    mode='max',\n",
    "    save_best_only=True)"
   ]
  },
  {
   "cell_type": "code",
   "execution_count": 40,
   "metadata": {
    "id": "GWBObQwXGRPz"
   },
   "outputs": [
    {
     "name": "stdout",
     "output_type": "stream",
     "text": [
      "Train on 86357 samples, validate on 28786 samples\n",
      "Epoch 1/10\n",
      "86357/86357 [==============================] - 16s 188us/step - loss: 0.6378 - accuracy: 0.7791 - val_loss: 0.5330 - val_accuracy: 0.8187\n",
      "Epoch 2/10\n",
      "86357/86357 [==============================] - 15s 179us/step - loss: 0.3988 - accuracy: 0.8642 - val_loss: 0.5013 - val_accuracy: 0.8336\n",
      "Epoch 3/10\n",
      "86357/86357 [==============================] - 15s 179us/step - loss: 0.2694 - accuracy: 0.9100 - val_loss: 0.5255 - val_accuracy: 0.8400\n",
      "Epoch 4/10\n",
      "86357/86357 [==============================] - 16s 180us/step - loss: 0.1570 - accuracy: 0.9485 - val_loss: 0.6244 - val_accuracy: 0.8316\n",
      "Epoch 5/10\n",
      "86357/86357 [==============================] - 16s 180us/step - loss: 0.0928 - accuracy: 0.9700 - val_loss: 0.6689 - val_accuracy: 0.8435\n",
      "Epoch 6/10\n",
      "86357/86357 [==============================] - 15s 179us/step - loss: 0.0679 - accuracy: 0.9781 - val_loss: 0.7713 - val_accuracy: 0.8458\n",
      "Epoch 7/10\n",
      "86357/86357 [==============================] - 16s 182us/step - loss: 0.0521 - accuracy: 0.9840 - val_loss: 0.8517 - val_accuracy: 0.8357\n",
      "Epoch 8/10\n",
      "86357/86357 [==============================] - 16s 181us/step - loss: 0.0402 - accuracy: 0.9881 - val_loss: 0.9026 - val_accuracy: 0.8459\n",
      "Epoch 9/10\n",
      "86357/86357 [==============================] - 16s 184us/step - loss: 0.0350 - accuracy: 0.9896 - val_loss: 0.9268 - val_accuracy: 0.8453\n",
      "Epoch 10/10\n",
      "86357/86357 [==============================] - 16s 182us/step - loss: 0.0272 - accuracy: 0.9918 - val_loss: 0.9346 - val_accuracy: 0.8440\n"
     ]
    }
   ],
   "source": [
    "history_2 = model2.fit(\n",
    "      x_train, \n",
    "      y_ohe_train,\n",
    "      batch_size=BATCH_SIZE,\n",
    "      epochs=epochs,\n",
    "      verbose=1,\n",
    "      callbacks=[model2_checkpoint_callback],\n",
    "      validation_data=(x_val, ye_val),\n",
    "    )"
   ]
  },
  {
   "cell_type": "markdown",
   "metadata": {
    "id": "Y0_N4I2cGRPz"
   },
   "source": [
    "**Atividade (1 pt):** adicione dropout ou regularização L1/L2 e treine o novo modelo. Se for, preciso, faça uma busca pelos hipeparâmetros da regularização/dropout."
   ]
  },
  {
   "cell_type": "code",
   "execution_count": null,
   "metadata": {
    "id": "LAAEGCLXGRP3"
   },
   "outputs": [],
   "source": []
  },
  {
   "cell_type": "markdown",
   "metadata": {
    "id": "bAPM94_SGRP3"
   },
   "source": [
    "**Atividade (1 pt):** avalie os modelos treinados e compare com os resultados anteriores."
   ]
  },
  {
   "cell_type": "code",
   "execution_count": 41,
   "metadata": {
    "id": "rMq6bSV8GRP3"
   },
   "outputs": [
    {
     "data": {
      "image/png": "[encoded data removed]",
      "text/plain": [
       "<Figure size 864x432 with 1 Axes>"
      ]
     },
     "metadata": {},
     "output_type": "display_data"
    }
   ],
   "source": [
    "plt.plot(history_2.history['loss'])\n",
    "plt.plot(history_2.history['val_loss'])\n",
    "plt.title('Model loss')\n",
    "plt.ylabel('Loss')\n",
    "plt.xlabel('Epoch')\n",
    "plt.legend(['Loss Train', 'Loss Val'], loc='upper left')\n",
    "plt.show()"
   ]
  },
  {
   "cell_type": "code",
   "execution_count": null,
   "metadata": {},
   "outputs": [],
   "source": []
  }
 ],
 "metadata": {
  "colab": {
   "name": "assignment-3.ipynb",
   "provenance": []
  },
  "kernelspec": {
   "display_name": "Python 3",
   "language": "python",
   "name": "python3"
  },
  "language_info": {
   "codemirror_mode": {
    "name": "ipython",
    "version": 3
   },
   "file_extension": ".py",
   "mimetype": "text/x-python",
   "name": "python",
   "nbconvert_exporter": "python",
   "pygments_lexer": "ipython3",
   "version": "3.7.7"
  }
 },
 "nbformat": 4,
 "nbformat_minor": 1
}
